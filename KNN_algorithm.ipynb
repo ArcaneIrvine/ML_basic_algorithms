{
 "cells": [
  {
   "cell_type": "markdown",
   "id": "8cea854e-16e2-4e0f-b947-4272ae3101ce",
   "metadata": {
    "tags": []
   },
   "source": [
    "### Import dependencies"
   ]
  },
  {
   "cell_type": "code",
   "execution_count": null,
   "id": "985c77cd-f7ee-470f-a8a3-177700042c2d",
   "metadata": {
    "tags": []
   },
   "outputs": [],
   "source": [
    "# pandas dataframe\n",
    "import pandas as pd\n",
    "# number array\n",
    "import numpy as np\n",
    "\n",
    "from sklearn.model_selection import train_test_split\n",
    "from sklearn.preprocessing import StandardScaler\n",
    "from sklearn.neighbors import KNeighborsClassifier\n",
    "# for testing the module\n",
    "from sklearn.metrics import confusion_matrix\n",
    "from sklearn.metrics import f1_score\n",
    "from sklearn.metrics import accuracy_score"
   ]
  },
  {
   "cell_type": "markdown",
   "id": "a8eb0d7a-9425-4dfb-92aa-de066445986e",
   "metadata": {
    "tags": []
   },
   "source": [
    "### Load data"
   ]
  },
  {
   "cell_type": "code",
   "execution_count": null,
   "id": "fa88ca09-d161-42ea-aa23-a861394f3ced",
   "metadata": {
    "tags": []
   },
   "outputs": [],
   "source": [
    "dataset = pd.read_csv('data/KNN_data.csv')"
   ]
  },
  {
   "attachments": {},
   "cell_type": "markdown",
   "id": "2597c656",
   "metadata": {},
   "source": [
    "From the dataset we load some values on specific columns are zero when they shouldn't be because it doesnt make sense for a human to have zero Insulin for example, so from those columns we have to remove or rather replace the zeros. We can do that by replacing these unusable values with NaN's. Then replace the NaN's with an integer from the database from the column where we skip na's. By doing so we replace the data for the people from whom the data is missing with the average, the most common data for that."
   ]
  },
  {
   "cell_type": "code",
   "execution_count": null,
   "id": "b70e2b17-5398-4f9e-90ca-f740f7c3d66e",
   "metadata": {},
   "outputs": [],
   "source": [
    "# remove zeros from these columns\n",
    "columns = ['Glucose', 'BloodPressure', 'SkinThickness', 'BMI', 'Insulin']\n",
    "\n",
    "for item in columns:\n",
    "    # replace zeros with NaN\n",
    "    dataset[item] = dataset[item].replace(0, np.NaN)\n",
    "    # integer from the database from the column where we skip na's\n",
    "    mean = int(dataset[item].mean(skipna=True))\n",
    "    # replace all np.NaN's with the mean\n",
    "    dataset[item] = dataset[item].replace(np.NaN, mean)"
   ]
  },
  {
   "cell_type": "markdown",
   "id": "8f133e17-ec40-4f1f-b270-44439c64e001",
   "metadata": {
    "tags": []
   },
   "source": [
    "### Split the data"
   ]
  },
  {
   "cell_type": "code",
   "execution_count": null,
   "id": "6cf7df6c-e685-4569-8bde-ea19b6c02ce6",
   "metadata": {},
   "outputs": [],
   "source": [
    "# all columns from 0 to 7 as column 9 in our data is the outcome so not part of the trai\n",
    "x = dataset.iloc[:, 0:8]                                                                \n",
    "# just the column 8                                                                     \n",
    "y = dataset.iloc[:, 8]                                                                  \n",
    "# split our data in training data and testing data, 20% of the data put aside for testin\n",
    "x_train, x_test, y_train, y_test = train_test_split(x, y, random_state=0, test_size=0.2)"
   ]
  },
  {
   "cell_type": "markdown",
   "id": "a92ea504-98a8-4754-99cd-594e39102d4a",
   "metadata": {
    "tags": []
   },
   "source": [
    "### Scale the data"
   ]
  },
  {
   "attachments": {},
   "cell_type": "markdown",
   "id": "d2b07b9b",
   "metadata": {},
   "source": [
    "In this part we simply scale the data, what that means is basically transforming our data so it fits within a specific range. In our case we set that range from [-1,1] which is the standard scaling. You usually want to scale your data on methods that measure distance or normality. "
   ]
  },
  {
   "cell_type": "code",
   "execution_count": null,
   "id": "65a3a77f-044b-4590-9124-65065953ba9b",
   "metadata": {},
   "outputs": [],
   "source": [
    "# scale the data with standard_scaler() so all the data is inside [-1,1]\n",
    "sc_x = StandardScaler()\n",
    "x_train = sc_x.fit_transform(x_train)\n",
    "x_test = sc_x.transform(x_test)"
   ]
  },
  {
   "cell_type": "markdown",
   "id": "72c07e0f-1173-4107-b755-0f1f12fefdd7",
   "metadata": {
    "tags": []
   },
   "source": [
    "### Define the model"
   ]
  },
  {
   "attachments": {},
   "cell_type": "markdown",
   "id": "910feef6",
   "metadata": {},
   "source": [
    "Define the model using KNeighborsClassifier and fit the training data into the model. The sqrt of the length of our y_test data equals to 12.4096, 12 is an even number and we don't want to have an even number of neighbors voting so we will make it 11  and use euclidian metric which is a common one for measuring the distance and works well"
   ]
  },
  {
   "cell_type": "code",
   "execution_count": null,
   "id": "3c26b553-e6d4-4620-8eee-11d23bb524a0",
   "metadata": {},
   "outputs": [],
   "source": [
    "# define model\n",
    "classifier = KNeighborsClassifier(n_neighbors=11, p=2, metric='euclidean')\n",
    "# fit the model\n",
    "classifier.fit(x_train, y_train)"
   ]
  },
  {
   "cell_type": "markdown",
   "id": "85b4290a-80ca-4765-bb02-f2d4d2c925d6",
   "metadata": {
    "tags": []
   },
   "source": [
    "### Evaluate the model"
   ]
  },
  {
   "attachments": {},
   "cell_type": "markdown",
   "id": "12fc3b13",
   "metadata": {},
   "source": [
    "In this final step we will evaluate the model by using a confusion matrix that is going to give us the prediction vs the actual results. It gives us the following matrix in the print. The main diagonal of the matrix consists of 94 and 32 which means that prediction and the actual agreed (so 94 people don't have diabetes and 32 people have diabetes. On the anti-diagonal 13 and 15 did not agree (so prediction said 13 of those 94 people did have diabetes and that 15 out of those 32 people didn't have diabetes."
   ]
  },
  {
   "cell_type": "code",
   "execution_count": null,
   "id": "16d87926-8573-4e6d-bbc8-408a492753fb",
   "metadata": {},
   "outputs": [],
   "source": [
    "# predict the test set results\n",
    "y_predict = classifier.predict(x_test)\n",
    "\n",
    "# evaluate the model\n",
    "cm = confusion_matrix(y_test, y_predict)\n",
    "print(\"confusion matrix:\\n\", cm)"
   ]
  },
  {
   "cell_type": "markdown",
   "id": "ca7ea263-039f-4959-adcf-6aa9006b7896",
   "metadata": {
    "tags": []
   },
   "source": [
    "### Check accuracy and score"
   ]
  },
  {
   "cell_type": "code",
   "execution_count": null,
   "id": "5c432e49-96f0-45ed-bf7d-218218a6e069",
   "metadata": {},
   "outputs": [],
   "source": [
    "print(\"score: \", f1_score(y_test, y_predict))\n",
    "print(\"accuracy: \", accuracy_score(y_test, y_predict))"
   ]
  }
 ],
 "metadata": {
  "kernelspec": {
   "display_name": "venv",
   "language": "python",
   "name": "python3"
  },
  "language_info": {
   "codemirror_mode": {
    "name": "ipython",
    "version": 3
   },
   "file_extension": ".py",
   "mimetype": "text/x-python",
   "name": "python",
   "nbconvert_exporter": "python",
   "pygments_lexer": "ipython3",
   "version": "3.9.4"
  },
  "vscode": {
   "interpreter": {
    "hash": "18f7b0b1e124e488133adaec2325984b15b21bef33fa41de6771d761a8f5851d"
   }
  }
 },
 "nbformat": 4,
 "nbformat_minor": 5
}
