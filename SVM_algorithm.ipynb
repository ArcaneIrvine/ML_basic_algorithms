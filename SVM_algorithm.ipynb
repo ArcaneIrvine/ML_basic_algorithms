{
 "cells": [
  {
   "attachments": {},
   "cell_type": "markdown",
   "metadata": {},
   "source": [
    "### Import dependencies"
   ]
  },
  {
   "cell_type": "code",
   "execution_count": null,
   "metadata": {},
   "outputs": [],
   "source": [
    "import numpy as np\n",
    "import matplotlib.pyplot as plt\n",
    "from sklearn import svm\n",
    "from sklearn.datasets import make_blobs"
   ]
  },
  {
   "attachments": {},
   "cell_type": "markdown",
   "metadata": {},
   "source": [
    "We are going to create 40 separable points using make_blobs function.\n",
    "We will get 40 lines of data with 2 centers representing a yes or no \n",
    "answer and each group (x or y) will have 20 different pieces of data.\n",
    "Then we will fit the data into the SVM algorithm with a linear kernel\n",
    "since we only have 2 dimensions."
   ]
  },
  {
   "cell_type": "markdown",
   "metadata": {},
   "source": []
  }
 ],
 "metadata": {
  "kernelspec": {
   "display_name": "venv",
   "language": "python",
   "name": "python3"
  },
  "language_info": {
   "name": "python",
   "version": "3.9.4"
  },
  "orig_nbformat": 4,
  "vscode": {
   "interpreter": {
    "hash": "18f7b0b1e124e488133adaec2325984b15b21bef33fa41de6771d761a8f5851d"
   }
  }
 },
 "nbformat": 4,
 "nbformat_minor": 2
}
